{
 "cells": [
  {
   "cell_type": "code",
   "execution_count": 1,
   "id": "7eb6d9fd",
   "metadata": {},
   "outputs": [],
   "source": [
    "# Load all the required libraries \n",
    "import pandas as pd\n",
    "import os\n",
    "import csv\n",
    "import numpy as np\n",
    "from sklearn.preprocessing import scale\n",
    "from sklearn.decomposition import PCA\n",
    "import seaborn as sns\n",
    "import matplotlib.pyplot as plt\n",
    "%matplotlib inline"
   ]
  },
  {
   "cell_type": "code",
   "execution_count": 2,
   "id": "9e4b3797",
   "metadata": {},
   "outputs": [],
   "source": [
    "## Import the dataset\n",
    "filename='C:/Users/chero/Documents/churn/churn_raw_data.csv'"
   ]
  },
  {
   "cell_type": "code",
   "execution_count": 3,
   "id": "c7392ee5",
   "metadata": {},
   "outputs": [],
   "source": [
    "df = pd.read_csv(filename)"
   ]
  },
  {
   "cell_type": "code",
   "execution_count": 4,
   "id": "eace95ff",
   "metadata": {},
   "outputs": [
    {
     "name": "stdout",
     "output_type": "stream",
     "text": [
      "      Unnamed: 0  CaseOrder Customer_id                           Interaction  \\\n",
      "0              1          1     K409198  aa90260b-4141-4a24-8e36-b04ce1f4f77b   \n",
      "1              2          2     S120509  fb76459f-c047-4a9d-8af9-e0f7d4ac2524   \n",
      "2              3          3     K191035  344d114c-3736-4be5-98f7-c72c281e2d35   \n",
      "3              4          4      D90850  abfa2b40-2d43-4994-b15a-989b8c79e311   \n",
      "4              5          5     K662701  68a861fd-0d20-4e51-a587-8a90407ee574   \n",
      "...          ...        ...         ...                                   ...   \n",
      "9995        9996       9996     M324793  45deb5a2-ae04-4518-bf0b-c82db8dbe4a4   \n",
      "9996        9997       9997     D861732  6e96b921-0c09-4993-bbda-a1ac6411061a   \n",
      "9997        9998       9998     I243405  e8307ddf-9a01-4fff-bc59-4742e03fd24f   \n",
      "9998        9999       9999     I641617  3775ccfc-0052-4107-81ae-9657f81ecdf3   \n",
      "9999       10000      10000      T38070  9de5fb6e-bd33-4995-aec8-f01d0172a499   \n",
      "\n",
      "              City State                 County    Zip       Lat        Lng  \\\n",
      "0      Point Baker    AK  Prince of Wales-Hyder  99927  56.25100 -133.37571   \n",
      "1      West Branch    MI                 Ogemaw  48661  44.32893  -84.24080   \n",
      "2          Yamhill    OR                Yamhill  97148  45.35589 -123.24657   \n",
      "3          Del Mar    CA              San Diego  92014  32.96687 -117.24798   \n",
      "4        Needville    TX              Fort Bend  77461  29.38012  -95.80673   \n",
      "...            ...   ...                    ...    ...       ...        ...   \n",
      "9995   Mount Holly    VT                Rutland   5758  43.43391  -72.78734   \n",
      "9996   Clarksville    TN             Montgomery  37042  36.56907  -87.41694   \n",
      "9997      Mobeetie    TX                Wheeler  79061  35.52039 -100.44180   \n",
      "9998    Carrollton    GA                Carroll  30117  33.58016  -85.13241   \n",
      "9999  Clarkesville    GA              Habersham  30523  34.70783  -83.53648   \n",
      "\n",
      "      ...  MonthlyCharge Bandwidth_GB_Year item1 item2  item3  item4 item5  \\\n",
      "0     ...     171.449762        904.536110     5     5      5      3     4   \n",
      "1     ...     242.948015        800.982766     3     4      3      3     4   \n",
      "2     ...     159.440398       2054.706961     4     4      2      4     4   \n",
      "3     ...     120.249493       2164.579412     4     4      4      2     5   \n",
      "4     ...     150.761216        271.493436     4     4      4      3     4   \n",
      "...   ...            ...               ...   ...   ...    ...    ...   ...   \n",
      "9995  ...     159.828800       6511.253000     3     2      3      3     4   \n",
      "9996  ...     208.856400       5695.952000     4     5      5      4     4   \n",
      "9997  ...     168.220900       4159.306000     4     4      4      4     4   \n",
      "9998  ...     252.628600       6468.457000     4     4      6      4     3   \n",
      "9999  ...     218.371000       5857.586000     2     2      3      3     3   \n",
      "\n",
      "     item6  item7 item8  \n",
      "0        4      3     4  \n",
      "1        3      4     4  \n",
      "2        3      3     3  \n",
      "3        4      3     3  \n",
      "4        4      4     5  \n",
      "...    ...    ...   ...  \n",
      "9995     3      2     3  \n",
      "9996     5      2     5  \n",
      "9997     4      4     5  \n",
      "9998     3      5     4  \n",
      "9999     3      4     1  \n",
      "\n",
      "[10000 rows x 52 columns]\n"
     ]
    }
   ],
   "source": [
    "print(df)"
   ]
  },
  {
   "cell_type": "code",
   "execution_count": 5,
   "id": "0e21437e",
   "metadata": {},
   "outputs": [],
   "source": [
    "# show all the columns in the dataset \n",
    "\n",
    "dfclm = df.columns"
   ]
  },
  {
   "cell_type": "code",
   "execution_count": 6,
   "id": "0d7fc77d",
   "metadata": {},
   "outputs": [
    {
     "data": {
      "text/plain": [
       "(52,)"
      ]
     },
     "execution_count": 6,
     "metadata": {},
     "output_type": "execute_result"
    }
   ],
   "source": [
    "##find number of columns and observations in the dataset \n",
    "dfclm.shape"
   ]
  },
  {
   "cell_type": "code",
   "execution_count": 7,
   "id": "e861bab7",
   "metadata": {},
   "outputs": [
    {
     "name": "stdout",
     "output_type": "stream",
     "text": [
      "Index(['Unnamed: 0', 'CaseOrder', 'Customer_id', 'Interaction', 'City',\n",
      "       'State', 'County', 'Zip', 'Lat', 'Lng', 'Population', 'Area',\n",
      "       'Timezone', 'Job', 'Children', 'Age', 'Education', 'Employment',\n",
      "       'Income', 'Marital', 'Gender', 'Churn', 'Outage_sec_perweek', 'Email',\n",
      "       'Contacts', 'Yearly_equip_failure', 'Techie', 'Contract', 'Port_modem',\n",
      "       'Tablet', 'InternetService', 'Phone', 'Multiple', 'OnlineSecurity',\n",
      "       'OnlineBackup', 'DeviceProtection', 'TechSupport', 'StreamingTV',\n",
      "       'StreamingMovies', 'PaperlessBilling', 'PaymentMethod', 'Tenure',\n",
      "       'MonthlyCharge', 'Bandwidth_GB_Year', 'item1', 'item2', 'item3',\n",
      "       'item4', 'item5', 'item6', 'item7', 'item8'],\n",
      "      dtype='object')\n"
     ]
    }
   ],
   "source": [
    "print(dfclm)"
   ]
  },
  {
   "cell_type": "code",
   "execution_count": 8,
   "id": "e0bdb7f8",
   "metadata": {},
   "outputs": [],
   "source": [
    "## Begin the cleaning process \n",
    "#First remove the unnecessary first column with indexes 1,2,3,...\n",
    "\n",
    "churnDATA = df.drop(df.columns[0], axis = 1)\n"
   ]
  },
  {
   "cell_type": "code",
   "execution_count": 9,
   "id": "23fc9ae2",
   "metadata": {},
   "outputs": [
    {
     "data": {
      "text/html": [
       "<div>\n",
       "<style scoped>\n",
       "    .dataframe tbody tr th:only-of-type {\n",
       "        vertical-align: middle;\n",
       "    }\n",
       "\n",
       "    .dataframe tbody tr th {\n",
       "        vertical-align: top;\n",
       "    }\n",
       "\n",
       "    .dataframe thead th {\n",
       "        text-align: right;\n",
       "    }\n",
       "</style>\n",
       "<table border=\"1\" class=\"dataframe\">\n",
       "  <thead>\n",
       "    <tr style=\"text-align: right;\">\n",
       "      <th></th>\n",
       "      <th>CaseOrder</th>\n",
       "      <th>Customer_id</th>\n",
       "      <th>Interaction</th>\n",
       "      <th>City</th>\n",
       "      <th>State</th>\n",
       "      <th>County</th>\n",
       "      <th>Zip</th>\n",
       "      <th>Lat</th>\n",
       "      <th>Lng</th>\n",
       "      <th>Population</th>\n",
       "      <th>...</th>\n",
       "      <th>MonthlyCharge</th>\n",
       "      <th>Bandwidth_GB_Year</th>\n",
       "      <th>item1</th>\n",
       "      <th>item2</th>\n",
       "      <th>item3</th>\n",
       "      <th>item4</th>\n",
       "      <th>item5</th>\n",
       "      <th>item6</th>\n",
       "      <th>item7</th>\n",
       "      <th>item8</th>\n",
       "    </tr>\n",
       "  </thead>\n",
       "  <tbody>\n",
       "    <tr>\n",
       "      <th>0</th>\n",
       "      <td>1</td>\n",
       "      <td>K409198</td>\n",
       "      <td>aa90260b-4141-4a24-8e36-b04ce1f4f77b</td>\n",
       "      <td>Point Baker</td>\n",
       "      <td>AK</td>\n",
       "      <td>Prince of Wales-Hyder</td>\n",
       "      <td>99927</td>\n",
       "      <td>56.25100</td>\n",
       "      <td>-133.37571</td>\n",
       "      <td>38</td>\n",
       "      <td>...</td>\n",
       "      <td>171.449762</td>\n",
       "      <td>904.536110</td>\n",
       "      <td>5</td>\n",
       "      <td>5</td>\n",
       "      <td>5</td>\n",
       "      <td>3</td>\n",
       "      <td>4</td>\n",
       "      <td>4</td>\n",
       "      <td>3</td>\n",
       "      <td>4</td>\n",
       "    </tr>\n",
       "    <tr>\n",
       "      <th>1</th>\n",
       "      <td>2</td>\n",
       "      <td>S120509</td>\n",
       "      <td>fb76459f-c047-4a9d-8af9-e0f7d4ac2524</td>\n",
       "      <td>West Branch</td>\n",
       "      <td>MI</td>\n",
       "      <td>Ogemaw</td>\n",
       "      <td>48661</td>\n",
       "      <td>44.32893</td>\n",
       "      <td>-84.24080</td>\n",
       "      <td>10446</td>\n",
       "      <td>...</td>\n",
       "      <td>242.948015</td>\n",
       "      <td>800.982766</td>\n",
       "      <td>3</td>\n",
       "      <td>4</td>\n",
       "      <td>3</td>\n",
       "      <td>3</td>\n",
       "      <td>4</td>\n",
       "      <td>3</td>\n",
       "      <td>4</td>\n",
       "      <td>4</td>\n",
       "    </tr>\n",
       "    <tr>\n",
       "      <th>2</th>\n",
       "      <td>3</td>\n",
       "      <td>K191035</td>\n",
       "      <td>344d114c-3736-4be5-98f7-c72c281e2d35</td>\n",
       "      <td>Yamhill</td>\n",
       "      <td>OR</td>\n",
       "      <td>Yamhill</td>\n",
       "      <td>97148</td>\n",
       "      <td>45.35589</td>\n",
       "      <td>-123.24657</td>\n",
       "      <td>3735</td>\n",
       "      <td>...</td>\n",
       "      <td>159.440398</td>\n",
       "      <td>2054.706961</td>\n",
       "      <td>4</td>\n",
       "      <td>4</td>\n",
       "      <td>2</td>\n",
       "      <td>4</td>\n",
       "      <td>4</td>\n",
       "      <td>3</td>\n",
       "      <td>3</td>\n",
       "      <td>3</td>\n",
       "    </tr>\n",
       "    <tr>\n",
       "      <th>3</th>\n",
       "      <td>4</td>\n",
       "      <td>D90850</td>\n",
       "      <td>abfa2b40-2d43-4994-b15a-989b8c79e311</td>\n",
       "      <td>Del Mar</td>\n",
       "      <td>CA</td>\n",
       "      <td>San Diego</td>\n",
       "      <td>92014</td>\n",
       "      <td>32.96687</td>\n",
       "      <td>-117.24798</td>\n",
       "      <td>13863</td>\n",
       "      <td>...</td>\n",
       "      <td>120.249493</td>\n",
       "      <td>2164.579412</td>\n",
       "      <td>4</td>\n",
       "      <td>4</td>\n",
       "      <td>4</td>\n",
       "      <td>2</td>\n",
       "      <td>5</td>\n",
       "      <td>4</td>\n",
       "      <td>3</td>\n",
       "      <td>3</td>\n",
       "    </tr>\n",
       "    <tr>\n",
       "      <th>4</th>\n",
       "      <td>5</td>\n",
       "      <td>K662701</td>\n",
       "      <td>68a861fd-0d20-4e51-a587-8a90407ee574</td>\n",
       "      <td>Needville</td>\n",
       "      <td>TX</td>\n",
       "      <td>Fort Bend</td>\n",
       "      <td>77461</td>\n",
       "      <td>29.38012</td>\n",
       "      <td>-95.80673</td>\n",
       "      <td>11352</td>\n",
       "      <td>...</td>\n",
       "      <td>150.761216</td>\n",
       "      <td>271.493436</td>\n",
       "      <td>4</td>\n",
       "      <td>4</td>\n",
       "      <td>4</td>\n",
       "      <td>3</td>\n",
       "      <td>4</td>\n",
       "      <td>4</td>\n",
       "      <td>4</td>\n",
       "      <td>5</td>\n",
       "    </tr>\n",
       "  </tbody>\n",
       "</table>\n",
       "<p>5 rows × 51 columns</p>\n",
       "</div>"
      ],
      "text/plain": [
       "   CaseOrder Customer_id                           Interaction         City  \\\n",
       "0          1     K409198  aa90260b-4141-4a24-8e36-b04ce1f4f77b  Point Baker   \n",
       "1          2     S120509  fb76459f-c047-4a9d-8af9-e0f7d4ac2524  West Branch   \n",
       "2          3     K191035  344d114c-3736-4be5-98f7-c72c281e2d35      Yamhill   \n",
       "3          4      D90850  abfa2b40-2d43-4994-b15a-989b8c79e311      Del Mar   \n",
       "4          5     K662701  68a861fd-0d20-4e51-a587-8a90407ee574    Needville   \n",
       "\n",
       "  State                 County    Zip       Lat        Lng  Population  ...  \\\n",
       "0    AK  Prince of Wales-Hyder  99927  56.25100 -133.37571          38  ...   \n",
       "1    MI                 Ogemaw  48661  44.32893  -84.24080       10446  ...   \n",
       "2    OR                Yamhill  97148  45.35589 -123.24657        3735  ...   \n",
       "3    CA              San Diego  92014  32.96687 -117.24798       13863  ...   \n",
       "4    TX              Fort Bend  77461  29.38012  -95.80673       11352  ...   \n",
       "\n",
       "  MonthlyCharge Bandwidth_GB_Year item1  item2  item3 item4 item5  item6  \\\n",
       "0    171.449762        904.536110     5      5      5     3     4      4   \n",
       "1    242.948015        800.982766     3      4      3     3     4      3   \n",
       "2    159.440398       2054.706961     4      4      2     4     4      3   \n",
       "3    120.249493       2164.579412     4      4      4     2     5      4   \n",
       "4    150.761216        271.493436     4      4      4     3     4      4   \n",
       "\n",
       "  item7 item8  \n",
       "0     3     4  \n",
       "1     4     4  \n",
       "2     3     3  \n",
       "3     3     3  \n",
       "4     4     5  \n",
       "\n",
       "[5 rows x 51 columns]"
      ]
     },
     "execution_count": 9,
     "metadata": {},
     "output_type": "execute_result"
    }
   ],
   "source": [
    "churnDATA.head()"
   ]
  },
  {
   "cell_type": "code",
   "execution_count": 10,
   "id": "2f13f5a3",
   "metadata": {},
   "outputs": [
    {
     "data": {
      "text/plain": [
       "(10000, 51)"
      ]
     },
     "execution_count": 10,
     "metadata": {},
     "output_type": "execute_result"
    }
   ],
   "source": [
    "## Check number of observations again \n",
    "churnDATA.shape"
   ]
  },
  {
   "cell_type": "code",
   "execution_count": 11,
   "id": "7251860f",
   "metadata": {},
   "outputs": [
    {
     "data": {
      "text/html": [
       "<div>\n",
       "<style scoped>\n",
       "    .dataframe tbody tr th:only-of-type {\n",
       "        vertical-align: middle;\n",
       "    }\n",
       "\n",
       "    .dataframe tbody tr th {\n",
       "        vertical-align: top;\n",
       "    }\n",
       "\n",
       "    .dataframe thead th {\n",
       "        text-align: right;\n",
       "    }\n",
       "</style>\n",
       "<table border=\"1\" class=\"dataframe\">\n",
       "  <thead>\n",
       "    <tr style=\"text-align: right;\">\n",
       "      <th></th>\n",
       "      <th>Population</th>\n",
       "      <th>Children</th>\n",
       "      <th>Age</th>\n",
       "      <th>Income</th>\n",
       "      <th>Outage_sec_perweek</th>\n",
       "      <th>Yearly_equip_failure</th>\n",
       "      <th>Tenure</th>\n",
       "      <th>MonthlyCharge</th>\n",
       "      <th>Bandwidth_GB_Year</th>\n",
       "      <th>item1</th>\n",
       "      <th>item2</th>\n",
       "      <th>item3</th>\n",
       "      <th>item4</th>\n",
       "      <th>item5</th>\n",
       "      <th>item6</th>\n",
       "      <th>item7</th>\n",
       "      <th>item8</th>\n",
       "    </tr>\n",
       "  </thead>\n",
       "  <tbody>\n",
       "    <tr>\n",
       "      <th>count</th>\n",
       "      <td>10000.000000</td>\n",
       "      <td>7505.000000</td>\n",
       "      <td>7525.000000</td>\n",
       "      <td>7510.000000</td>\n",
       "      <td>10000.000000</td>\n",
       "      <td>10000.000000</td>\n",
       "      <td>9069.000000</td>\n",
       "      <td>10000.000000</td>\n",
       "      <td>8979.000000</td>\n",
       "      <td>10000.000000</td>\n",
       "      <td>10000.000000</td>\n",
       "      <td>10000.000000</td>\n",
       "      <td>10000.000000</td>\n",
       "      <td>10000.000000</td>\n",
       "      <td>10000.000000</td>\n",
       "      <td>10000.000000</td>\n",
       "      <td>10000.000000</td>\n",
       "    </tr>\n",
       "    <tr>\n",
       "      <th>mean</th>\n",
       "      <td>9756.562400</td>\n",
       "      <td>2.095936</td>\n",
       "      <td>53.275748</td>\n",
       "      <td>39936.762226</td>\n",
       "      <td>11.452955</td>\n",
       "      <td>0.398000</td>\n",
       "      <td>34.498858</td>\n",
       "      <td>174.076305</td>\n",
       "      <td>3398.842752</td>\n",
       "      <td>3.490800</td>\n",
       "      <td>3.505100</td>\n",
       "      <td>3.487000</td>\n",
       "      <td>3.497500</td>\n",
       "      <td>3.492900</td>\n",
       "      <td>3.497300</td>\n",
       "      <td>3.509500</td>\n",
       "      <td>3.495600</td>\n",
       "    </tr>\n",
       "    <tr>\n",
       "      <th>std</th>\n",
       "      <td>14432.698671</td>\n",
       "      <td>2.154758</td>\n",
       "      <td>20.753928</td>\n",
       "      <td>28358.469482</td>\n",
       "      <td>7.025921</td>\n",
       "      <td>0.635953</td>\n",
       "      <td>26.438904</td>\n",
       "      <td>43.335473</td>\n",
       "      <td>2187.396807</td>\n",
       "      <td>1.037797</td>\n",
       "      <td>1.034641</td>\n",
       "      <td>1.027977</td>\n",
       "      <td>1.025816</td>\n",
       "      <td>1.024819</td>\n",
       "      <td>1.033586</td>\n",
       "      <td>1.028502</td>\n",
       "      <td>1.028633</td>\n",
       "    </tr>\n",
       "    <tr>\n",
       "      <th>min</th>\n",
       "      <td>0.000000</td>\n",
       "      <td>0.000000</td>\n",
       "      <td>18.000000</td>\n",
       "      <td>740.660000</td>\n",
       "      <td>-1.348571</td>\n",
       "      <td>0.000000</td>\n",
       "      <td>1.000259</td>\n",
       "      <td>77.505230</td>\n",
       "      <td>155.506715</td>\n",
       "      <td>1.000000</td>\n",
       "      <td>1.000000</td>\n",
       "      <td>1.000000</td>\n",
       "      <td>1.000000</td>\n",
       "      <td>1.000000</td>\n",
       "      <td>1.000000</td>\n",
       "      <td>1.000000</td>\n",
       "      <td>1.000000</td>\n",
       "    </tr>\n",
       "    <tr>\n",
       "      <th>25%</th>\n",
       "      <td>738.000000</td>\n",
       "      <td>0.000000</td>\n",
       "      <td>35.000000</td>\n",
       "      <td>19285.522500</td>\n",
       "      <td>8.054362</td>\n",
       "      <td>0.000000</td>\n",
       "      <td>7.890442</td>\n",
       "      <td>141.071078</td>\n",
       "      <td>1234.110529</td>\n",
       "      <td>3.000000</td>\n",
       "      <td>3.000000</td>\n",
       "      <td>3.000000</td>\n",
       "      <td>3.000000</td>\n",
       "      <td>3.000000</td>\n",
       "      <td>3.000000</td>\n",
       "      <td>3.000000</td>\n",
       "      <td>3.000000</td>\n",
       "    </tr>\n",
       "    <tr>\n",
       "      <th>50%</th>\n",
       "      <td>2910.500000</td>\n",
       "      <td>1.000000</td>\n",
       "      <td>53.000000</td>\n",
       "      <td>33186.785000</td>\n",
       "      <td>10.202896</td>\n",
       "      <td>0.000000</td>\n",
       "      <td>36.196030</td>\n",
       "      <td>169.915400</td>\n",
       "      <td>3382.424000</td>\n",
       "      <td>3.000000</td>\n",
       "      <td>4.000000</td>\n",
       "      <td>3.000000</td>\n",
       "      <td>3.000000</td>\n",
       "      <td>3.000000</td>\n",
       "      <td>3.000000</td>\n",
       "      <td>4.000000</td>\n",
       "      <td>3.000000</td>\n",
       "    </tr>\n",
       "    <tr>\n",
       "      <th>75%</th>\n",
       "      <td>13168.000000</td>\n",
       "      <td>3.000000</td>\n",
       "      <td>71.000000</td>\n",
       "      <td>53472.395000</td>\n",
       "      <td>12.487644</td>\n",
       "      <td>1.000000</td>\n",
       "      <td>61.426670</td>\n",
       "      <td>203.777441</td>\n",
       "      <td>5587.096500</td>\n",
       "      <td>4.000000</td>\n",
       "      <td>4.000000</td>\n",
       "      <td>4.000000</td>\n",
       "      <td>4.000000</td>\n",
       "      <td>4.000000</td>\n",
       "      <td>4.000000</td>\n",
       "      <td>4.000000</td>\n",
       "      <td>4.000000</td>\n",
       "    </tr>\n",
       "    <tr>\n",
       "      <th>max</th>\n",
       "      <td>111850.000000</td>\n",
       "      <td>10.000000</td>\n",
       "      <td>89.000000</td>\n",
       "      <td>258900.700000</td>\n",
       "      <td>47.049280</td>\n",
       "      <td>6.000000</td>\n",
       "      <td>71.999280</td>\n",
       "      <td>315.878600</td>\n",
       "      <td>7158.982000</td>\n",
       "      <td>7.000000</td>\n",
       "      <td>7.000000</td>\n",
       "      <td>8.000000</td>\n",
       "      <td>7.000000</td>\n",
       "      <td>7.000000</td>\n",
       "      <td>8.000000</td>\n",
       "      <td>7.000000</td>\n",
       "      <td>8.000000</td>\n",
       "    </tr>\n",
       "  </tbody>\n",
       "</table>\n",
       "</div>"
      ],
      "text/plain": [
       "          Population     Children          Age         Income  \\\n",
       "count   10000.000000  7505.000000  7525.000000    7510.000000   \n",
       "mean     9756.562400     2.095936    53.275748   39936.762226   \n",
       "std     14432.698671     2.154758    20.753928   28358.469482   \n",
       "min         0.000000     0.000000    18.000000     740.660000   \n",
       "25%       738.000000     0.000000    35.000000   19285.522500   \n",
       "50%      2910.500000     1.000000    53.000000   33186.785000   \n",
       "75%     13168.000000     3.000000    71.000000   53472.395000   \n",
       "max    111850.000000    10.000000    89.000000  258900.700000   \n",
       "\n",
       "       Outage_sec_perweek  Yearly_equip_failure       Tenure  MonthlyCharge  \\\n",
       "count        10000.000000          10000.000000  9069.000000   10000.000000   \n",
       "mean            11.452955              0.398000    34.498858     174.076305   \n",
       "std              7.025921              0.635953    26.438904      43.335473   \n",
       "min             -1.348571              0.000000     1.000259      77.505230   \n",
       "25%              8.054362              0.000000     7.890442     141.071078   \n",
       "50%             10.202896              0.000000    36.196030     169.915400   \n",
       "75%             12.487644              1.000000    61.426670     203.777441   \n",
       "max             47.049280              6.000000    71.999280     315.878600   \n",
       "\n",
       "       Bandwidth_GB_Year         item1         item2         item3  \\\n",
       "count        8979.000000  10000.000000  10000.000000  10000.000000   \n",
       "mean         3398.842752      3.490800      3.505100      3.487000   \n",
       "std          2187.396807      1.037797      1.034641      1.027977   \n",
       "min           155.506715      1.000000      1.000000      1.000000   \n",
       "25%          1234.110529      3.000000      3.000000      3.000000   \n",
       "50%          3382.424000      3.000000      4.000000      3.000000   \n",
       "75%          5587.096500      4.000000      4.000000      4.000000   \n",
       "max          7158.982000      7.000000      7.000000      8.000000   \n",
       "\n",
       "              item4         item5         item6         item7         item8  \n",
       "count  10000.000000  10000.000000  10000.000000  10000.000000  10000.000000  \n",
       "mean       3.497500      3.492900      3.497300      3.509500      3.495600  \n",
       "std        1.025816      1.024819      1.033586      1.028502      1.028633  \n",
       "min        1.000000      1.000000      1.000000      1.000000      1.000000  \n",
       "25%        3.000000      3.000000      3.000000      3.000000      3.000000  \n",
       "50%        3.000000      3.000000      3.000000      4.000000      3.000000  \n",
       "75%        4.000000      4.000000      4.000000      4.000000      4.000000  \n",
       "max        7.000000      7.000000      8.000000      7.000000      8.000000  "
      ]
     },
     "execution_count": 11,
     "metadata": {},
     "output_type": "execute_result"
    }
   ],
   "source": [
    "## from first skim, remove unnecessary variables based on the question \n",
    "df_rmv = churnDATA.drop(columns=['CaseOrder', 'Zip', 'Lat', 'Lng','Email','Contacts'])\n",
    "df_rmv.describe()"
   ]
  },
  {
   "cell_type": "code",
   "execution_count": 12,
   "id": "1cb55705",
   "metadata": {},
   "outputs": [
    {
     "data": {
      "text/plain": [
       "(10000, 45)"
      ]
     },
     "execution_count": 12,
     "metadata": {},
     "output_type": "execute_result"
    }
   ],
   "source": [
    "## Check number of observations again \n",
    "df_rmv.shape"
   ]
  },
  {
   "cell_type": "code",
   "execution_count": 13,
   "id": "ecde519a",
   "metadata": {},
   "outputs": [
    {
     "data": {
      "text/plain": [
       "Customer_id              object\n",
       "Interaction              object\n",
       "City                     object\n",
       "State                    object\n",
       "County                   object\n",
       "Population                int64\n",
       "Area                     object\n",
       "Timezone                 object\n",
       "Job                      object\n",
       "Children                float64\n",
       "Age                     float64\n",
       "Education                object\n",
       "Employment               object\n",
       "Income                  float64\n",
       "Marital                  object\n",
       "Gender                   object\n",
       "Churn                    object\n",
       "Outage_sec_perweek      float64\n",
       "Yearly_equip_failure      int64\n",
       "Techie                   object\n",
       "Contract                 object\n",
       "Port_modem               object\n",
       "Tablet                   object\n",
       "InternetService          object\n",
       "Phone                    object\n",
       "Multiple                 object\n",
       "OnlineSecurity           object\n",
       "OnlineBackup             object\n",
       "DeviceProtection         object\n",
       "TechSupport              object\n",
       "StreamingTV              object\n",
       "StreamingMovies          object\n",
       "PaperlessBilling         object\n",
       "PaymentMethod            object\n",
       "Tenure                  float64\n",
       "MonthlyCharge           float64\n",
       "Bandwidth_GB_Year       float64\n",
       "item1                     int64\n",
       "item2                     int64\n",
       "item3                     int64\n",
       "item4                     int64\n",
       "item5                     int64\n",
       "item6                     int64\n",
       "item7                     int64\n",
       "item8                     int64\n",
       "dtype: object"
      ]
     },
     "execution_count": 13,
     "metadata": {},
     "output_type": "execute_result"
    }
   ],
   "source": [
    "## check the data types \n",
    "df_rmv.dtypes"
   ]
  },
  {
   "cell_type": "code",
   "execution_count": 14,
   "id": "332b356b",
   "metadata": {},
   "outputs": [
    {
     "data": {
      "text/plain": [
       "<bound method NDFrame._add_numeric_operations.<locals>.sum of       Customer_id  Interaction   City  State  County  Population   Area  \\\n",
       "0           False        False  False  False   False       False  False   \n",
       "1           False        False  False  False   False       False  False   \n",
       "2           False        False  False  False   False       False  False   \n",
       "3           False        False  False  False   False       False  False   \n",
       "4           False        False  False  False   False       False  False   \n",
       "...           ...          ...    ...    ...     ...         ...    ...   \n",
       "9995        False        False  False  False   False       False  False   \n",
       "9996        False        False  False  False   False       False  False   \n",
       "9997        False        False  False  False   False       False  False   \n",
       "9998        False        False  False  False   False       False  False   \n",
       "9999        False        False  False  False   False       False  False   \n",
       "\n",
       "      Timezone    Job  Children  ...  MonthlyCharge  Bandwidth_GB_Year  item1  \\\n",
       "0        False  False      True  ...          False              False  False   \n",
       "1        False  False     False  ...          False              False  False   \n",
       "2        False  False     False  ...          False              False  False   \n",
       "3        False  False     False  ...          False              False  False   \n",
       "4        False  False     False  ...          False              False  False   \n",
       "...        ...    ...       ...  ...            ...                ...    ...   \n",
       "9995     False  False     False  ...          False              False  False   \n",
       "9996     False  False     False  ...          False              False  False   \n",
       "9997     False  False      True  ...          False              False  False   \n",
       "9998     False  False     False  ...          False              False  False   \n",
       "9999     False  False     False  ...          False              False  False   \n",
       "\n",
       "      item2  item3  item4  item5  item6  item7  item8  \n",
       "0     False  False  False  False  False  False  False  \n",
       "1     False  False  False  False  False  False  False  \n",
       "2     False  False  False  False  False  False  False  \n",
       "3     False  False  False  False  False  False  False  \n",
       "4     False  False  False  False  False  False  False  \n",
       "...     ...    ...    ...    ...    ...    ...    ...  \n",
       "9995  False  False  False  False  False  False  False  \n",
       "9996  False  False  False  False  False  False  False  \n",
       "9997  False  False  False  False  False  False  False  \n",
       "9998  False  False  False  False  False  False  False  \n",
       "9999  False  False  False  False  False  False  False  \n",
       "\n",
       "[10000 rows x 45 columns]>"
      ]
     },
     "execution_count": 14,
     "metadata": {},
     "output_type": "execute_result"
    }
   ],
   "source": [
    "## Start checking for the missing values \n",
    "df_rmv.isnull().sum"
   ]
  },
  {
   "cell_type": "code",
   "execution_count": 15,
   "id": "ce1de76d",
   "metadata": {},
   "outputs": [
    {
     "data": {
      "text/plain": [
       "0        True\n",
       "1       False\n",
       "2        True\n",
       "3       False\n",
       "4       False\n",
       "        ...  \n",
       "9995     True\n",
       "9996     True\n",
       "9997     True\n",
       "9998    False\n",
       "9999     True\n",
       "Length: 10000, dtype: bool"
      ]
     },
     "execution_count": 15,
     "metadata": {},
     "output_type": "execute_result"
    }
   ],
   "source": [
    "df_rmv.isnull().any(axis=1)\n"
   ]
  },
  {
   "cell_type": "code",
   "execution_count": 16,
   "id": "db81e444",
   "metadata": {},
   "outputs": [
    {
     "data": {
      "text/plain": [
       "Customer_id             False\n",
       "Interaction             False\n",
       "City                    False\n",
       "State                   False\n",
       "County                  False\n",
       "Population              False\n",
       "Area                    False\n",
       "Timezone                False\n",
       "Job                     False\n",
       "Children                 True\n",
       "Age                      True\n",
       "Education               False\n",
       "Employment              False\n",
       "Income                   True\n",
       "Marital                 False\n",
       "Gender                  False\n",
       "Churn                   False\n",
       "Outage_sec_perweek      False\n",
       "Yearly_equip_failure    False\n",
       "Techie                   True\n",
       "Contract                False\n",
       "Port_modem              False\n",
       "Tablet                  False\n",
       "InternetService         False\n",
       "Phone                    True\n",
       "Multiple                False\n",
       "OnlineSecurity          False\n",
       "OnlineBackup            False\n",
       "DeviceProtection        False\n",
       "TechSupport              True\n",
       "StreamingTV             False\n",
       "StreamingMovies         False\n",
       "PaperlessBilling        False\n",
       "PaymentMethod           False\n",
       "Tenure                   True\n",
       "MonthlyCharge           False\n",
       "Bandwidth_GB_Year        True\n",
       "item1                   False\n",
       "item2                   False\n",
       "item3                   False\n",
       "item4                   False\n",
       "item5                   False\n",
       "item6                   False\n",
       "item7                   False\n",
       "item8                   False\n",
       "dtype: bool"
      ]
     },
     "execution_count": 16,
     "metadata": {},
     "output_type": "execute_result"
    }
   ],
   "source": [
    "df_rmv.isna().any()\n"
   ]
  },
  {
   "cell_type": "code",
   "execution_count": 17,
   "id": "30a8e8a1",
   "metadata": {},
   "outputs": [],
   "source": [
    "## From the code output presented above, there are missing values in about 6 columns. "
   ]
  },
  {
   "cell_type": "code",
   "execution_count": 18,
   "id": "c745c619",
   "metadata": {},
   "outputs": [
    {
     "name": "stdout",
     "output_type": "stream",
     "text": [
      "Customer_id                0\n",
      "Interaction                0\n",
      "City                       0\n",
      "State                      0\n",
      "County                     0\n",
      "Population                 0\n",
      "Area                       0\n",
      "Timezone                   0\n",
      "Job                        0\n",
      "Children                2495\n",
      "Age                     2475\n",
      "Education                  0\n",
      "Employment                 0\n",
      "Income                  2490\n",
      "Marital                    0\n",
      "Gender                     0\n",
      "Churn                      0\n",
      "Outage_sec_perweek         0\n",
      "Yearly_equip_failure       0\n",
      "Techie                  2477\n",
      "Contract                   0\n",
      "Port_modem                 0\n",
      "Tablet                     0\n",
      "InternetService            0\n",
      "Phone                   1026\n",
      "Multiple                   0\n",
      "OnlineSecurity             0\n",
      "OnlineBackup               0\n",
      "DeviceProtection           0\n",
      "TechSupport              991\n",
      "StreamingTV                0\n",
      "StreamingMovies            0\n",
      "PaperlessBilling           0\n",
      "PaymentMethod              0\n",
      "Tenure                   931\n",
      "MonthlyCharge              0\n",
      "Bandwidth_GB_Year       1021\n",
      "item1                      0\n",
      "item2                      0\n",
      "item3                      0\n",
      "item4                      0\n",
      "item5                      0\n",
      "item6                      0\n",
      "item7                      0\n",
      "item8                      0\n",
      "dtype: int64\n"
     ]
    }
   ],
   "source": [
    "## identify any missing numbers from the obervations on the columns \n",
    "\n",
    "mss_data = df_rmv.isnull().sum()\n",
    "print(mss_data)"
   ]
  },
  {
   "cell_type": "code",
   "execution_count": 19,
   "id": "3c0b9ad5",
   "metadata": {},
   "outputs": [
    {
     "data": {
      "text/plain": [
       "(10000, 45)"
      ]
     },
     "execution_count": 19,
     "metadata": {},
     "output_type": "execute_result"
    }
   ],
   "source": [
    "df_rmv.shape"
   ]
  },
  {
   "cell_type": "code",
   "execution_count": 20,
   "id": "02cf2fe7",
   "metadata": {},
   "outputs": [
    {
     "data": {
      "text/plain": [
       "(2133, 45)"
      ]
     },
     "execution_count": 20,
     "metadata": {},
     "output_type": "execute_result"
    }
   ],
   "source": [
    "df_rmv.dropna(how='any').shape"
   ]
  },
  {
   "cell_type": "code",
   "execution_count": 21,
   "id": "9f47fb94",
   "metadata": {},
   "outputs": [
    {
     "data": {
      "text/plain": [
       "(2133, 45)"
      ]
     },
     "execution_count": 21,
     "metadata": {},
     "output_type": "execute_result"
    }
   ],
   "source": [
    "df_rmv.dropna(subset=['Children','Age','Income','Techie','Phone',\n",
    "                      'TechSupport','Tenure','Bandwidth_GB_Year'],how='any').shape"
   ]
  },
  {
   "cell_type": "code",
   "execution_count": 22,
   "id": "80a65800",
   "metadata": {},
   "outputs": [
    {
     "data": {
      "text/plain": [
       "(10000, 45)"
      ]
     },
     "execution_count": 22,
     "metadata": {},
     "output_type": "execute_result"
    }
   ],
   "source": [
    "df_rmv.shape"
   ]
  },
  {
   "cell_type": "code",
   "execution_count": 23,
   "id": "282f0207",
   "metadata": {},
   "outputs": [],
   "source": [
    "## Select only variables we will need for the question \n",
    "df_fnl = df_rmv.drop(columns=['Customer_id', 'Interaction', 'City', 'County',\n",
    "                                 'State','Population','Area','Timezone','Job','Education',\n",
    "                                 'Employment','Outage_sec_perweek',\n",
    "                                 'Yearly_equip_failure','Techie','Contract','Port_modem',\n",
    "                                 'Tablet','InternetService','Phone','Multiple',\n",
    "                                 'OnlineSecurity','OnlineBackup','DeviceProtection',\n",
    "                                 'TechSupport','StreamingTV','StreamingMovies',\n",
    "                                 'PaperlessBilling','PaymentMethod','Tenure','MonthlyCharge','Bandwidth_GB_Year'])\n"
   ]
  },
  {
   "cell_type": "code",
   "execution_count": 24,
   "id": "9520c3d1",
   "metadata": {},
   "outputs": [
    {
     "data": {
      "text/plain": [
       "(10000, 14)"
      ]
     },
     "execution_count": 24,
     "metadata": {},
     "output_type": "execute_result"
    }
   ],
   "source": [
    "df_fnl.shape"
   ]
  },
  {
   "cell_type": "code",
   "execution_count": 25,
   "id": "921bb938",
   "metadata": {},
   "outputs": [],
   "source": [
    "clean_dataset= df_fnl.dropna(subset=['Children','Age','Income'],how='any')"
   ]
  },
  {
   "cell_type": "code",
   "execution_count": 26,
   "id": "13a0112c",
   "metadata": {},
   "outputs": [
    {
     "data": {
      "text/plain": [
       "(4254, 14)"
      ]
     },
     "execution_count": 26,
     "metadata": {},
     "output_type": "execute_result"
    }
   ],
   "source": [
    "clean_dataset.shape"
   ]
  },
  {
   "cell_type": "code",
   "execution_count": 27,
   "id": "649f506e",
   "metadata": {},
   "outputs": [
    {
     "name": "stdout",
     "output_type": "stream",
     "text": [
      "      Children   Age    Income        Marital                Gender Churn  \\\n",
      "1          1.0  27.0  21704.77        Married                Female   Yes   \n",
      "3          1.0  48.0  18925.23        Married                  Male    No   \n",
      "4          0.0  83.0  40074.19      Separated                  Male   Yes   \n",
      "8          2.0  49.0  58634.51      Separated  Prefer not to answer    No   \n",
      "11         2.0  56.0  18342.12        Married                Female    No   \n",
      "...        ...   ...       ...            ...                   ...   ...   \n",
      "9982       7.0  68.0  67377.48        Widowed                Female    No   \n",
      "9984       0.0  50.0  40935.12  Never Married                Female    No   \n",
      "9988       4.0  64.0  58232.67        Married  Prefer not to answer    No   \n",
      "9991       0.0  52.0  30724.26       Divorced                  Male    No   \n",
      "9998       1.0  39.0  16667.58      Separated                  Male    No   \n",
      "\n",
      "      item1  item2  item3  item4  item5  item6  item7  item8  \n",
      "1         3      4      3      3      4      3      4      4  \n",
      "3         4      4      4      2      5      4      3      3  \n",
      "4         4      4      4      3      4      4      4      5  \n",
      "8         5      4      4      3      4      3      4      4  \n",
      "11        4      4      3      4      4      4      3      4  \n",
      "...     ...    ...    ...    ...    ...    ...    ...    ...  \n",
      "9982      5      5      6      3      4      3      4      4  \n",
      "9984      6      5      6      2      2      5      3      5  \n",
      "9988      4      5      5      4      2      4      5      5  \n",
      "9991      3      3      2      2      5      4      4      2  \n",
      "9998      4      4      6      4      3      3      5      4  \n",
      "\n",
      "[4254 rows x 14 columns]\n"
     ]
    }
   ],
   "source": [
    "print(clean_dataset)"
   ]
  },
  {
   "cell_type": "code",
   "execution_count": 28,
   "id": "0d8075f0",
   "metadata": {},
   "outputs": [
    {
     "name": "stderr",
     "output_type": "stream",
     "text": [
      "c:\\users\\chero\\appdata\\local\\programs\\python\\python39\\lib\\site-packages\\pandas\\core\\frame.py:5034: SettingWithCopyWarning: \n",
      "A value is trying to be set on a copy of a slice from a DataFrame\n",
      "\n",
      "See the caveats in the documentation: https://pandas.pydata.org/pandas-docs/stable/user_guide/indexing.html#returning-a-view-versus-a-copy\n",
      "  return super().rename(\n"
     ]
    }
   ],
   "source": [
    "## Rename all the survey columns 'item1','item2','item3' etc\n",
    "clean_dataset.rename(columns = \n",
    "{'item1':'Response',\n",
    "'item2':'Fixes',\n",
    "'item3':'Replacements',\n",
    "'item4':'Reliability',\n",
    "'item5':'Options',\n",
    "'item6':'Respectfulness',\n",
    "'item7':'Courteous',\n",
    "'item8':'Listening'},\n",
    "inplace=True)"
   ]
  },
  {
   "cell_type": "code",
   "execution_count": 29,
   "id": "deedd879",
   "metadata": {},
   "outputs": [
    {
     "name": "stdout",
     "output_type": "stream",
     "text": [
      "      Children   Age    Income        Marital                Gender Churn  \\\n",
      "1          1.0  27.0  21704.77        Married                Female   Yes   \n",
      "3          1.0  48.0  18925.23        Married                  Male    No   \n",
      "4          0.0  83.0  40074.19      Separated                  Male   Yes   \n",
      "8          2.0  49.0  58634.51      Separated  Prefer not to answer    No   \n",
      "11         2.0  56.0  18342.12        Married                Female    No   \n",
      "...        ...   ...       ...            ...                   ...   ...   \n",
      "9982       7.0  68.0  67377.48        Widowed                Female    No   \n",
      "9984       0.0  50.0  40935.12  Never Married                Female    No   \n",
      "9988       4.0  64.0  58232.67        Married  Prefer not to answer    No   \n",
      "9991       0.0  52.0  30724.26       Divorced                  Male    No   \n",
      "9998       1.0  39.0  16667.58      Separated                  Male    No   \n",
      "\n",
      "      Response  Fixes  Replacements  Reliability  Options  Respectfulness  \\\n",
      "1            3      4             3            3        4               3   \n",
      "3            4      4             4            2        5               4   \n",
      "4            4      4             4            3        4               4   \n",
      "8            5      4             4            3        4               3   \n",
      "11           4      4             3            4        4               4   \n",
      "...        ...    ...           ...          ...      ...             ...   \n",
      "9982         5      5             6            3        4               3   \n",
      "9984         6      5             6            2        2               5   \n",
      "9988         4      5             5            4        2               4   \n",
      "9991         3      3             2            2        5               4   \n",
      "9998         4      4             6            4        3               3   \n",
      "\n",
      "      Courteous  Listening  \n",
      "1             4          4  \n",
      "3             3          3  \n",
      "4             4          5  \n",
      "8             4          4  \n",
      "11            3          4  \n",
      "...         ...        ...  \n",
      "9982          4          4  \n",
      "9984          3          5  \n",
      "9988          5          5  \n",
      "9991          4          2  \n",
      "9998          5          4  \n",
      "\n",
      "[4254 rows x 14 columns]\n"
     ]
    }
   ],
   "source": [
    "print(clean_dataset)"
   ]
  },
  {
   "cell_type": "code",
   "execution_count": 30,
   "id": "b064db58",
   "metadata": {},
   "outputs": [
    {
     "data": {
      "image/png": "[encoded data removed]",
      "text/plain": [
       "<Figure size 432x288 with 4 Axes>"
      ]
     },
     "metadata": {
      "needs_background": "light"
     },
     "output_type": "display_data"
    }
   ],
   "source": [
    "## Data visualization \n",
    "\n",
    "# Distribution of variables with numbers \n",
    "clean_dataset[['Children', 'Age', 'Income']].hist()\n",
    "plt.savefig('churn_pyplot.jpg')\n",
    "plt.tight_layout()\n",
    "# plt.close()\n"
   ]
  },
  {
   "cell_type": "code",
   "execution_count": null,
   "id": "c512c8e0",
   "metadata": {},
   "outputs": [],
   "source": []
  },
  {
   "cell_type": "code",
   "execution_count": 31,
   "id": "e48ea826",
   "metadata": {},
   "outputs": [
    {
     "data": {
      "text/plain": [
       "<AxesSubplot:>"
      ]
     },
     "execution_count": 31,
     "metadata": {},
     "output_type": "execute_result"
    },
    {
     "data": {
      "image/png": "[encoded data removed]",
      "text/plain": [
       "<Figure size 432x288 with 1 Axes>"
      ]
     },
     "metadata": {
      "needs_background": "light"
     },
     "output_type": "display_data"
    }
   ],
   "source": [
    "clean_dataset['Gender'].value_counts().plot(kind='bar')"
   ]
  },
  {
   "cell_type": "code",
   "execution_count": 32,
   "id": "0fcee3ae",
   "metadata": {},
   "outputs": [
    {
     "data": {
      "text/plain": [
       "<AxesSubplot:>"
      ]
     },
     "execution_count": 32,
     "metadata": {},
     "output_type": "execute_result"
    },
    {
     "data": {
      "image/png": "[encoded data removed]",
      "text/plain": [
       "<Figure size 432x288 with 1 Axes>"
      ]
     },
     "metadata": {
      "needs_background": "light"
     },
     "output_type": "display_data"
    }
   ],
   "source": [
    "clean_dataset['Marital'].value_counts().plot(kind='bar')"
   ]
  },
  {
   "cell_type": "code",
   "execution_count": 33,
   "id": "b740e656",
   "metadata": {},
   "outputs": [
    {
     "data": {
      "text/plain": [
       "<AxesSubplot:>"
      ]
     },
     "execution_count": 33,
     "metadata": {},
     "output_type": "execute_result"
    },
    {
     "data": {
      "image/png": "[encoded data removed]",
      "text/plain": [
       "<Figure size 432x288 with 1 Axes>"
      ]
     },
     "metadata": {
      "needs_background": "light"
     },
     "output_type": "display_data"
    }
   ],
   "source": [
    "clean_dataset['Churn'].value_counts().plot(kind='bar')"
   ]
  },
  {
   "cell_type": "code",
   "execution_count": 34,
   "id": "a7876028",
   "metadata": {},
   "outputs": [],
   "source": [
    "# Extract Clean dataset\n",
    "clean_dataset.to_csv('cleaned_clean.csv')"
   ]
  },
  {
   "cell_type": "code",
   "execution_count": 35,
   "id": "6ba0949e",
   "metadata": {},
   "outputs": [],
   "source": [
    "## PCA"
   ]
  },
  {
   "cell_type": "code",
   "execution_count": 36,
   "id": "99135799",
   "metadata": {},
   "outputs": [],
   "source": [
    "features = ['Income','Response','Fixes','Replacements','Reliability','Options','Listening']\n",
    "x = clean_dataset.loc[:, features].values"
   ]
  },
  {
   "cell_type": "code",
   "execution_count": 37,
   "id": "c65044c1",
   "metadata": {},
   "outputs": [],
   "source": [
    "y = clean_dataset.loc[:,['Churn']].values"
   ]
  },
  {
   "cell_type": "code",
   "execution_count": 38,
   "id": "9d13a083",
   "metadata": {},
   "outputs": [],
   "source": [
    "import sklearn"
   ]
  },
  {
   "cell_type": "code",
   "execution_count": 39,
   "id": "65be286c",
   "metadata": {},
   "outputs": [],
   "source": [
    "x = sklearn.preprocessing.StandardScaler().fit_transform(x)"
   ]
  },
  {
   "cell_type": "code",
   "execution_count": 40,
   "id": "6b77ead6",
   "metadata": {},
   "outputs": [
    {
     "data": {
      "text/html": [
       "<div>\n",
       "<style scoped>\n",
       "    .dataframe tbody tr th:only-of-type {\n",
       "        vertical-align: middle;\n",
       "    }\n",
       "\n",
       "    .dataframe tbody tr th {\n",
       "        vertical-align: top;\n",
       "    }\n",
       "\n",
       "    .dataframe thead th {\n",
       "        text-align: right;\n",
       "    }\n",
       "</style>\n",
       "<table border=\"1\" class=\"dataframe\">\n",
       "  <thead>\n",
       "    <tr style=\"text-align: right;\">\n",
       "      <th></th>\n",
       "      <th>Income</th>\n",
       "      <th>Response</th>\n",
       "      <th>Fixes</th>\n",
       "      <th>Replacements</th>\n",
       "      <th>Reliability</th>\n",
       "      <th>Options</th>\n",
       "      <th>Listening</th>\n",
       "    </tr>\n",
       "  </thead>\n",
       "  <tbody>\n",
       "    <tr>\n",
       "      <th>0</th>\n",
       "      <td>-0.650330</td>\n",
       "      <td>-0.475605</td>\n",
       "      <td>0.47544</td>\n",
       "      <td>-0.465471</td>\n",
       "      <td>-0.494816</td>\n",
       "      <td>0.497445</td>\n",
       "      <td>0.515893</td>\n",
       "    </tr>\n",
       "    <tr>\n",
       "      <th>1</th>\n",
       "      <td>-0.748185</td>\n",
       "      <td>0.480099</td>\n",
       "      <td>0.47544</td>\n",
       "      <td>0.497619</td>\n",
       "      <td>-1.476144</td>\n",
       "      <td>1.473519</td>\n",
       "      <td>-0.477142</td>\n",
       "    </tr>\n",
       "    <tr>\n",
       "      <th>2</th>\n",
       "      <td>-0.003630</td>\n",
       "      <td>0.480099</td>\n",
       "      <td>0.47544</td>\n",
       "      <td>0.497619</td>\n",
       "      <td>-0.494816</td>\n",
       "      <td>0.497445</td>\n",
       "      <td>1.508928</td>\n",
       "    </tr>\n",
       "    <tr>\n",
       "      <th>3</th>\n",
       "      <td>0.649791</td>\n",
       "      <td>1.435803</td>\n",
       "      <td>0.47544</td>\n",
       "      <td>0.497619</td>\n",
       "      <td>-0.494816</td>\n",
       "      <td>0.497445</td>\n",
       "      <td>0.515893</td>\n",
       "    </tr>\n",
       "    <tr>\n",
       "      <th>4</th>\n",
       "      <td>-0.768713</td>\n",
       "      <td>0.480099</td>\n",
       "      <td>0.47544</td>\n",
       "      <td>-0.465471</td>\n",
       "      <td>0.486512</td>\n",
       "      <td>0.497445</td>\n",
       "      <td>0.515893</td>\n",
       "    </tr>\n",
       "  </tbody>\n",
       "</table>\n",
       "</div>"
      ],
      "text/plain": [
       "     Income  Response    Fixes  Replacements  Reliability   Options  Listening\n",
       "0 -0.650330 -0.475605  0.47544     -0.465471    -0.494816  0.497445   0.515893\n",
       "1 -0.748185  0.480099  0.47544      0.497619    -1.476144  1.473519  -0.477142\n",
       "2 -0.003630  0.480099  0.47544      0.497619    -0.494816  0.497445   1.508928\n",
       "3  0.649791  1.435803  0.47544      0.497619    -0.494816  0.497445   0.515893\n",
       "4 -0.768713  0.480099  0.47544     -0.465471     0.486512  0.497445   0.515893"
      ]
     },
     "execution_count": 40,
     "metadata": {},
     "output_type": "execute_result"
    }
   ],
   "source": [
    "pd.DataFrame(data = x, columns = features).head()"
   ]
  },
  {
   "cell_type": "code",
   "execution_count": 41,
   "id": "b90cff92",
   "metadata": {},
   "outputs": [],
   "source": [
    "pca = PCA(n_components=2)\n"
   ]
  },
  {
   "cell_type": "code",
   "execution_count": 42,
   "id": "69b773ac",
   "metadata": {},
   "outputs": [],
   "source": [
    "principalComponents = pca.fit_transform(x)\n"
   ]
  },
  {
   "cell_type": "code",
   "execution_count": 43,
   "id": "6cd58766",
   "metadata": {},
   "outputs": [],
   "source": [
    "principalDf = pd.DataFrame(data = principalComponents\n",
    "             , columns = ['principal component 1', 'principal component 2'])"
   ]
  },
  {
   "cell_type": "code",
   "execution_count": 44,
   "id": "3659a924",
   "metadata": {},
   "outputs": [
    {
     "data": {
      "text/html": [
       "<div>\n",
       "<style scoped>\n",
       "    .dataframe tbody tr th:only-of-type {\n",
       "        vertical-align: middle;\n",
       "    }\n",
       "\n",
       "    .dataframe tbody tr th {\n",
       "        vertical-align: top;\n",
       "    }\n",
       "\n",
       "    .dataframe thead th {\n",
       "        text-align: right;\n",
       "    }\n",
       "</style>\n",
       "<table border=\"1\" class=\"dataframe\">\n",
       "  <thead>\n",
       "    <tr style=\"text-align: right;\">\n",
       "      <th></th>\n",
       "      <th>principal component 1</th>\n",
       "      <th>principal component 2</th>\n",
       "    </tr>\n",
       "  </thead>\n",
       "  <tbody>\n",
       "    <tr>\n",
       "      <th>0</th>\n",
       "      <td>-0.165458</td>\n",
       "      <td>-0.440064</td>\n",
       "    </tr>\n",
       "    <tr>\n",
       "      <th>1</th>\n",
       "      <td>0.370926</td>\n",
       "      <td>-2.244477</td>\n",
       "    </tr>\n",
       "    <tr>\n",
       "      <th>2</th>\n",
       "      <td>1.188767</td>\n",
       "      <td>-0.430288</td>\n",
       "    </tr>\n",
       "    <tr>\n",
       "      <th>3</th>\n",
       "      <td>1.398904</td>\n",
       "      <td>-0.848180</td>\n",
       "    </tr>\n",
       "    <tr>\n",
       "      <th>4</th>\n",
       "      <td>0.456823</td>\n",
       "      <td>0.081934</td>\n",
       "    </tr>\n",
       "  </tbody>\n",
       "</table>\n",
       "</div>"
      ],
      "text/plain": [
       "   principal component 1  principal component 2\n",
       "0              -0.165458              -0.440064\n",
       "1               0.370926              -2.244477\n",
       "2               1.188767              -0.430288\n",
       "3               1.398904              -0.848180\n",
       "4               0.456823               0.081934"
      ]
     },
     "execution_count": 44,
     "metadata": {},
     "output_type": "execute_result"
    }
   ],
   "source": [
    "principalDf.head(5)\n"
   ]
  },
  {
   "cell_type": "code",
   "execution_count": 45,
   "id": "88e7fee4",
   "metadata": {},
   "outputs": [
    {
     "data": {
      "text/html": [
       "<div>\n",
       "<style scoped>\n",
       "    .dataframe tbody tr th:only-of-type {\n",
       "        vertical-align: middle;\n",
       "    }\n",
       "\n",
       "    .dataframe tbody tr th {\n",
       "        vertical-align: top;\n",
       "    }\n",
       "\n",
       "    .dataframe thead th {\n",
       "        text-align: right;\n",
       "    }\n",
       "</style>\n",
       "<table border=\"1\" class=\"dataframe\">\n",
       "  <thead>\n",
       "    <tr style=\"text-align: right;\">\n",
       "      <th></th>\n",
       "      <th>Churn</th>\n",
       "    </tr>\n",
       "  </thead>\n",
       "  <tbody>\n",
       "    <tr>\n",
       "      <th>1</th>\n",
       "      <td>Yes</td>\n",
       "    </tr>\n",
       "    <tr>\n",
       "      <th>3</th>\n",
       "      <td>No</td>\n",
       "    </tr>\n",
       "    <tr>\n",
       "      <th>4</th>\n",
       "      <td>Yes</td>\n",
       "    </tr>\n",
       "    <tr>\n",
       "      <th>8</th>\n",
       "      <td>No</td>\n",
       "    </tr>\n",
       "    <tr>\n",
       "      <th>11</th>\n",
       "      <td>No</td>\n",
       "    </tr>\n",
       "  </tbody>\n",
       "</table>\n",
       "</div>"
      ],
      "text/plain": [
       "   Churn\n",
       "1    Yes\n",
       "3     No\n",
       "4    Yes\n",
       "8     No\n",
       "11    No"
      ]
     },
     "execution_count": 45,
     "metadata": {},
     "output_type": "execute_result"
    }
   ],
   "source": [
    "clean_dataset[['Churn']].head()\n"
   ]
  },
  {
   "cell_type": "code",
   "execution_count": 46,
   "id": "60417a7b",
   "metadata": {},
   "outputs": [
    {
     "data": {
      "text/html": [
       "<div>\n",
       "<style scoped>\n",
       "    .dataframe tbody tr th:only-of-type {\n",
       "        vertical-align: middle;\n",
       "    }\n",
       "\n",
       "    .dataframe tbody tr th {\n",
       "        vertical-align: top;\n",
       "    }\n",
       "\n",
       "    .dataframe thead th {\n",
       "        text-align: right;\n",
       "    }\n",
       "</style>\n",
       "<table border=\"1\" class=\"dataframe\">\n",
       "  <thead>\n",
       "    <tr style=\"text-align: right;\">\n",
       "      <th></th>\n",
       "      <th>principal component 1</th>\n",
       "      <th>principal component 2</th>\n",
       "      <th>Churn</th>\n",
       "    </tr>\n",
       "  </thead>\n",
       "  <tbody>\n",
       "    <tr>\n",
       "      <th>0</th>\n",
       "      <td>-0.165458</td>\n",
       "      <td>-0.440064</td>\n",
       "      <td>NaN</td>\n",
       "    </tr>\n",
       "    <tr>\n",
       "      <th>1</th>\n",
       "      <td>0.370926</td>\n",
       "      <td>-2.244477</td>\n",
       "      <td>Yes</td>\n",
       "    </tr>\n",
       "    <tr>\n",
       "      <th>2</th>\n",
       "      <td>1.188767</td>\n",
       "      <td>-0.430288</td>\n",
       "      <td>NaN</td>\n",
       "    </tr>\n",
       "    <tr>\n",
       "      <th>3</th>\n",
       "      <td>1.398904</td>\n",
       "      <td>-0.848180</td>\n",
       "      <td>No</td>\n",
       "    </tr>\n",
       "    <tr>\n",
       "      <th>4</th>\n",
       "      <td>0.456823</td>\n",
       "      <td>0.081934</td>\n",
       "      <td>Yes</td>\n",
       "    </tr>\n",
       "  </tbody>\n",
       "</table>\n",
       "</div>"
      ],
      "text/plain": [
       "   principal component 1  principal component 2 Churn\n",
       "0              -0.165458              -0.440064   NaN\n",
       "1               0.370926              -2.244477   Yes\n",
       "2               1.188767              -0.430288   NaN\n",
       "3               1.398904              -0.848180    No\n",
       "4               0.456823               0.081934   Yes"
      ]
     },
     "execution_count": 46,
     "metadata": {},
     "output_type": "execute_result"
    }
   ],
   "source": [
    "dfPCA = pd.concat([principalDf, clean_dataset[['Churn']]], axis = 1)\n",
    "dfPCA.head(5)"
   ]
  },
  {
   "cell_type": "code",
   "execution_count": 47,
   "id": "d576b56b",
   "metadata": {},
   "outputs": [
    {
     "data": {
      "image/png": "[encoded data removed]",
      "text/plain": [
       "<Figure size 576x576 with 1 Axes>"
      ]
     },
     "metadata": {
      "needs_background": "light"
     },
     "output_type": "display_data"
    }
   ],
   "source": [
    "fig = plt.figure(figsize = (8,8))\n",
    "ax = fig.add_subplot(1,1,1) \n",
    "ax.set_xlabel('Principal Component 1', fontsize = 15)\n",
    "ax.set_ylabel('Principal Component 2', fontsize = 15)\n",
    "ax.set_title('2 Component PCA', fontsize = 20)\n",
    "\n",
    "\n",
    "Churns = ['Yes','No']\n",
    "colors = ['r', 'g']\n",
    "for Churn, color in zip(Churns,colors):\n",
    "    indicesToKeep = dfPCA['Churn'] == Churn\n",
    "    ax.scatter(dfPCA.loc[indicesToKeep, 'principal component 1']\n",
    "               , dfPCA.loc[indicesToKeep, 'principal component 2']\n",
    "               , c = color\n",
    "               , s = 50)\n",
    "ax.legend(Churns)\n",
    "ax.grid()"
   ]
  },
  {
   "cell_type": "code",
   "execution_count": 48,
   "id": "2bf70681",
   "metadata": {},
   "outputs": [
    {
     "data": {
      "text/plain": [
       "array([0.33504605, 0.21633318])"
      ]
     },
     "execution_count": 48,
     "metadata": {},
     "output_type": "execute_result"
    }
   ],
   "source": [
    "pca.explained_variance_ratio_\n"
   ]
  },
  {
   "cell_type": "code",
   "execution_count": null,
   "id": "5b85f587",
   "metadata": {},
   "outputs": [],
   "source": []
  }
 ],
 "metadata": {
  "kernelspec": {
   "display_name": "Python 3 (ipykernel)",
   "language": "python",
   "name": "python3"
  },
  "language_info": {
   "codemirror_mode": {
    "name": "ipython",
    "version": 3
   },
   "file_extension": ".py",
   "mimetype": "text/x-python",
   "name": "python",
   "nbconvert_exporter": "python",
   "pygments_lexer": "ipython3",
   "version": "3.9.4"
  }
 },
 "nbformat": 4,
 "nbformat_minor": 5
}
